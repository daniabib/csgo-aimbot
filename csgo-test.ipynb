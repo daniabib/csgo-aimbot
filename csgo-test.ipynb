{
 "cells": [
  {
   "cell_type": "code",
   "execution_count": 1,
   "metadata": {},
   "outputs": [
    {
     "name": "stderr",
     "output_type": "stream",
     "text": [
      "Using cache found in /home/dalai/.cache/torch/hub/ultralytics_yolov5_master\n",
      "YOLOv5 🚀 2022-6-4 Python-3.10.1 torch-1.11.0+cu102 CUDA:0 (NVIDIA GeForce GTX 1050 Ti, 4040MiB)\n",
      "\n",
      "Fusing layers... \n",
      "Model summary: 367 layers, 46135203 parameters, 0 gradients\n",
      "Adding AutoShape... \n"
     ]
    }
   ],
   "source": [
    "import torch\n",
    "import torch.nn as nn\n",
    "\n",
    "from PIL import Image\n",
    "import time\n",
    "\n",
    "from mss.linux import MSS as mss\n",
    "import cv2 as cv\n",
    "import numpy as np\n",
    "\n",
    "# Load YOLOv5 with PyTorch Hub from Ultralytics\n",
    "model = torch.hub.load(\"ultralytics/yolov5\", \"custom\", path=\"csgo-detection-v3.pt\")\n",
    "\n",
    "if torch.cuda.is_available():\n",
    "    model.cuda()"
   ]
  },
  {
   "cell_type": "code",
   "execution_count": 17,
   "metadata": {},
   "outputs": [],
   "source": [
    "class Point:\n",
    "    def __init__(self, x, y) -> None:\n",
    "        self.x = x\n",
    "        self.y = y\n",
    "        self.coordinates = np.array([x, y])\n",
    "\n",
    "    def __sub__(self, other) -> float:\n",
    "        \"\"\"Calculates euclidean distance between two Points.\"\"\"\n",
    "        return np.linalg.norm(self.coordinates - other.coordinates)\n",
    "\n",
    "    def __repr__(self) -> str:\n",
    "        return f\"Point(x={self.x}, y={self.y})\"\n",
    "\n",
    "\n",
    "class Target(Point):\n",
    "    def __init__(self, target: torch.Tensor) -> None:\n",
    "        self.x: float = target[0].item()\n",
    "        self.y: float = target[1].item()\n",
    "        self.w: float = target[2].item()\n",
    "        self.h: float = target[3].item()\n",
    "        self.confidence: float = target[4].item()\n",
    "        self.label: int = int(target[5].item())\n",
    "        self.tensor: torch.Tensor = target\n",
    "        self.coordinates = np.array([self.x, self.y])\n",
    "\n",
    "    # def __lt__(self, other)\n",
    "\n",
    "    def __repr__(self) -> str:\n",
    "        return f\"Target({self.label}: x={self.x}, y={self.y})\""
   ]
  },
  {
   "cell_type": "code",
   "execution_count": 34,
   "metadata": {},
   "outputs": [],
   "source": [
    "img = Image.open(\"csgo.mp4-out000014.png\")\n"
   ]
  },
  {
   "cell_type": "code",
   "execution_count": 35,
   "metadata": {},
   "outputs": [],
   "source": [
    "results = model(img)"
   ]
  },
  {
   "cell_type": "code",
   "execution_count": 36,
   "metadata": {},
   "outputs": [],
   "source": [
    "def get_targets(results: list, labels: list[int]) -> list[Target]:\n",
    "    \"\"\"Returns a list with results filtered by the classes specified in the labels argument.\"\"\"\n",
    "    return [Target(target) for target in results.xywh[0] if target[5] in labels]\n",
    "\n",
    "def sort_targets(targets: list[Target], aim_center: Point) -> list[Target]:\n",
    "    return sorted(targets, key=lambda target: aim_center - target)"
   ]
  },
  {
   "cell_type": "code",
   "execution_count": 37,
   "metadata": {},
   "outputs": [
    {
     "data": {
      "text/plain": [
       "Point(x=960, y=540)"
      ]
     },
     "execution_count": 37,
     "metadata": {},
     "output_type": "execute_result"
    }
   ],
   "source": [
    "AIM_CENTER = Point(x=960, y=540)\n",
    "AIM_CENTER"
   ]
  },
  {
   "cell_type": "code",
   "execution_count": 28,
   "metadata": {},
   "outputs": [
    {
     "data": {
      "text/plain": [
       "[Target(3: x=647.32275390625, y=174.81887817382812),\n",
       " Target(3: x=201.32089233398438, y=181.86473083496094),\n",
       " Target(3: x=1105.286376953125, y=166.70626831054688),\n",
       " Target(3: x=687.9887084960938, y=160.46310424804688)]"
      ]
     },
     "execution_count": 28,
     "metadata": {},
     "output_type": "execute_result"
    }
   ],
   "source": [
    "targets = get_targets(results, labels=[2,3])\n",
    "targets"
   ]
  },
  {
   "cell_type": "code",
   "execution_count": null,
   "metadata": {},
   "outputs": [],
   "source": [
    "for target in targets:\n",
    "    print(AIM_CENTER - target)"
   ]
  },
  {
   "cell_type": "code",
   "execution_count": 29,
   "metadata": {},
   "outputs": [
    {
     "data": {
      "text/plain": [
       "Target(3: x=201.32089233398438, y=181.86473083496094)"
      ]
     },
     "execution_count": 29,
     "metadata": {},
     "output_type": "execute_result"
    }
   ],
   "source": [
    "t1 = targets[1]\n",
    "t1"
   ]
  },
  {
   "cell_type": "code",
   "execution_count": 30,
   "metadata": {},
   "outputs": [
    {
     "data": {
      "text/plain": [
       "Point(x=960, y=540)"
      ]
     },
     "execution_count": 30,
     "metadata": {},
     "output_type": "execute_result"
    }
   ],
   "source": []
  },
  {
   "cell_type": "code",
   "execution_count": 18,
   "metadata": {},
   "outputs": [
    {
     "ename": "TypeError",
     "evalue": "unsupported operand type(s) for -: 'Target' and 'Point'",
     "output_type": "error",
     "traceback": [
      "\u001b[0;31m---------------------------------------------------------------------------\u001b[0m",
      "\u001b[0;31mTypeError\u001b[0m                                 Traceback (most recent call last)",
      "\u001b[1;32m/home/dalai/repos/csgo-aimbot/csgo-test.ipynb Cell 9'\u001b[0m in \u001b[0;36m<cell line: 1>\u001b[0;34m()\u001b[0m\n\u001b[0;32m----> <a href='vscode-notebook-cell:/home/dalai/repos/csgo-aimbot/csgo-test.ipynb#ch0000010?line=0'>1</a>\u001b[0m t1 \u001b[39m-\u001b[39;49m AIM_CENTER\n",
      "\u001b[0;31mTypeError\u001b[0m: unsupported operand type(s) for -: 'Target' and 'Point'"
     ]
    }
   ],
   "source": [
    "t1 - AIM_CENTER"
   ]
  },
  {
   "cell_type": "code",
   "execution_count": 31,
   "metadata": {},
   "outputs": [
    {
     "data": {
      "text/plain": [
       "[Target(3: x=1105.286376953125, y=166.70626831054688),\n",
       " Target(3: x=687.9887084960938, y=160.46310424804688),\n",
       " Target(3: x=647.32275390625, y=174.81887817382812),\n",
       " Target(3: x=201.32089233398438, y=181.86473083496094)]"
      ]
     },
     "execution_count": 31,
     "metadata": {},
     "output_type": "execute_result"
    }
   ],
   "source": [
    "sorted_targets = sort_targets(targets, AIM_CENTER)\n",
    "sorted_targets"
   ]
  },
  {
   "cell_type": "code",
   "execution_count": 32,
   "metadata": {},
   "outputs": [
    {
     "name": "stdout",
     "output_type": "stream",
     "text": [
      "400.57002065407113\n",
      "466.94581906539435\n",
      "480.75389958168086\n",
      "838.9605827622754\n"
     ]
    }
   ],
   "source": [
    "for target in sorted_targets:\n",
    "    print(AIM_CENTER - target)"
   ]
  },
  {
   "cell_type": "code",
   "execution_count": 8,
   "metadata": {},
   "outputs": [
    {
     "name": "stdout",
     "output_type": "stream",
     "text": [
      "<__main__.Target object at 0x7f3d00429960>\n",
      "<__main__.Target object at 0x7f3d0042a0e0>\n",
      "<__main__.Target object at 0x7f3c257e0520>\n",
      "<__main__.Target object at 0x7f3c257e0790>\n"
     ]
    }
   ],
   "source": [
    "for target in targets:\n",
    "    print(target)"
   ]
  }
 ],
 "metadata": {
  "interpreter": {
   "hash": "ac3e0b813a517070cf68ee2bfd3bf520725598581c2f722280e532cafd40723d"
  },
  "kernelspec": {
   "display_name": "Python 3.10.1 ('.venv': venv)",
   "language": "python",
   "name": "python3"
  },
  "language_info": {
   "codemirror_mode": {
    "name": "ipython",
    "version": 3
   },
   "file_extension": ".py",
   "mimetype": "text/x-python",
   "name": "python",
   "nbconvert_exporter": "python",
   "pygments_lexer": "ipython3",
   "version": "3.10.1"
  },
  "orig_nbformat": 4
 },
 "nbformat": 4,
 "nbformat_minor": 2
}
