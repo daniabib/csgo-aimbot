{
 "cells": [
  {
   "cell_type": "code",
   "execution_count": 1,
   "metadata": {},
   "outputs": [
    {
     "name": "stderr",
     "output_type": "stream",
     "text": [
      "Using cache found in /home/dalai/.cache/torch/hub/ultralytics_yolov5_master\n",
      "YOLOv5 🚀 2022-6-4 Python-3.10.1 torch-1.11.0+cu102 CUDA:0 (NVIDIA GeForce GTX 1050 Ti, 4040MiB)\n",
      "\n",
      "Fusing layers... \n",
      "Model summary: 367 layers, 46135203 parameters, 0 gradients\n",
      "Adding AutoShape... \n"
     ]
    }
   ],
   "source": [
    "import torch\n",
    "import torch.nn as nn\n",
    "\n",
    "from PIL import Image\n",
    "import time\n",
    "\n",
    "from mss.linux import MSS as mss\n",
    "import cv2 as cv\n",
    "import numpy as np\n",
    "\n",
    "# Load YOLOv5 with PyTorch Hub from Ultralytics\n",
    "model = torch.hub.load(\"ultralytics/yolov5\", \"custom\", path=\"csgo-detection-v3.pt\")\n",
    "\n",
    "if torch.cuda.is_available():\n",
    "    model.cuda()"
   ]
  },
  {
   "cell_type": "code",
   "execution_count": 2,
   "metadata": {},
   "outputs": [],
   "source": [
    "img = Image.open(\"csgo.mp4-out000014.png\")\n"
   ]
  },
  {
   "cell_type": "code",
   "execution_count": 3,
   "metadata": {},
   "outputs": [],
   "source": [
    "results = model(img)"
   ]
  },
  {
   "cell_type": "code",
   "execution_count": 4,
   "metadata": {},
   "outputs": [],
   "source": [
    "def get_targets(results: list, cls: list[int]):\n",
    "    return [target for target in results.xywh[0] if target[5] in cls]"
   ]
  },
  {
   "cell_type": "code",
   "execution_count": 5,
   "metadata": {},
   "outputs": [
    {
     "data": {
      "text/plain": [
       "[tensor([647.32275, 174.81888,  42.87860,  44.33978,   0.90040,   3.00000], device='cuda:0'),\n",
       " tensor([201.32089, 181.86473,  75.81676,  62.98956,   0.88568,   3.00000], device='cuda:0'),\n",
       " tensor([1.10529e+03, 1.66706e+02, 2.32924e+01, 2.31361e+01, 8.66877e-01, 3.00000e+00], device='cuda:0'),\n",
       " tensor([687.98871, 160.46310,  25.15295,  33.20045,   0.83823,   3.00000], device='cuda:0')]"
      ]
     },
     "execution_count": 5,
     "metadata": {},
     "output_type": "execute_result"
    }
   ],
   "source": [
    "targets = get_targets(results, cls=[2,3])\n",
    "targets"
   ]
  },
  {
   "cell_type": "code",
   "execution_count": 6,
   "metadata": {},
   "outputs": [
    {
     "name": "stdout",
     "output_type": "stream",
     "text": [
      "tensor([647.32275, 174.81888,  42.87860,  44.33978,   0.90040,   3.00000], device='cuda:0')\n",
      "tensor([201.32089, 181.86473,  75.81676,  62.98956,   0.88568,   3.00000], device='cuda:0')\n",
      "tensor([1.10529e+03, 1.66706e+02, 2.32924e+01, 2.31361e+01, 8.66877e-01, 3.00000e+00], device='cuda:0')\n",
      "tensor([687.98871, 160.46310,  25.15295,  33.20045,   0.83823,   3.00000], device='cuda:0')\n"
     ]
    }
   ],
   "source": [
    "for target in targets:\n",
    "    print(target)"
   ]
  }
 ],
 "metadata": {
  "interpreter": {
   "hash": "ac3e0b813a517070cf68ee2bfd3bf520725598581c2f722280e532cafd40723d"
  },
  "kernelspec": {
   "display_name": "Python 3.10.1 ('.venv': venv)",
   "language": "python",
   "name": "python3"
  },
  "language_info": {
   "codemirror_mode": {
    "name": "ipython",
    "version": 3
   },
   "file_extension": ".py",
   "mimetype": "text/x-python",
   "name": "python",
   "nbconvert_exporter": "python",
   "pygments_lexer": "ipython3",
   "version": "3.10.1"
  },
  "orig_nbformat": 4
 },
 "nbformat": 4,
 "nbformat_minor": 2
}
